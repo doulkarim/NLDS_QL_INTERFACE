{
  "nbformat": 4,
  "nbformat_minor": 0,
  "metadata": {
    "colab": {
      "name": "Graph database building.ipynb",
      "provenance": [],
      "collapsed_sections": [],
      "authorship_tag": "ABX9TyO5U94nHx+2m0TU00tBRIy6",
      "include_colab_link": true
    },
    "kernelspec": {
      "name": "python3",
      "display_name": "Python 3"
    },
    "language_info": {
      "name": "python"
    }
  },
  "cells": [
    {
      "cell_type": "markdown",
      "metadata": {
        "id": "view-in-github",
        "colab_type": "text"
      },
      "source": [
        "<a href=\"https://colab.research.google.com/github/doulkarim/NLDS_QL_INTERFACE/blob/master/Graph_database_building.ipynb\" target=\"_parent\"><img src=\"https://colab.research.google.com/assets/colab-badge.svg\" alt=\"Open In Colab\"/></a>"
      ]
    },
    {
      "cell_type": "code",
      "metadata": {
        "colab": {
          "base_uri": "https://localhost:8080/"
        },
        "id": "XfnpNZa6iai1",
        "outputId": "22fb9270-4d1b-469c-fa88-36053e2eff00"
      },
      "source": [
        "!pip install py2neo"
      ],
      "execution_count": 1,
      "outputs": [
        {
          "output_type": "stream",
          "name": "stdout",
          "text": [
            "Collecting py2neo\n",
            "  Downloading py2neo-2021.2.3-py2.py3-none-any.whl (177 kB)\n",
            "\u001b[?25l\r\u001b[K     |█▉                              | 10 kB 24.5 MB/s eta 0:00:01\r\u001b[K     |███▊                            | 20 kB 14.9 MB/s eta 0:00:01\r\u001b[K     |█████▌                          | 30 kB 10.4 MB/s eta 0:00:01\r\u001b[K     |███████▍                        | 40 kB 9.0 MB/s eta 0:00:01\r\u001b[K     |█████████▎                      | 51 kB 5.2 MB/s eta 0:00:01\r\u001b[K     |███████████                     | 61 kB 5.4 MB/s eta 0:00:01\r\u001b[K     |█████████████                   | 71 kB 5.6 MB/s eta 0:00:01\r\u001b[K     |██████████████▉                 | 81 kB 6.2 MB/s eta 0:00:01\r\u001b[K     |████████████████▋               | 92 kB 4.8 MB/s eta 0:00:01\r\u001b[K     |██████████████████▌             | 102 kB 5.3 MB/s eta 0:00:01\r\u001b[K     |████████████████████▍           | 112 kB 5.3 MB/s eta 0:00:01\r\u001b[K     |██████████████████████▏         | 122 kB 5.3 MB/s eta 0:00:01\r\u001b[K     |████████████████████████        | 133 kB 5.3 MB/s eta 0:00:01\r\u001b[K     |██████████████████████████      | 143 kB 5.3 MB/s eta 0:00:01\r\u001b[K     |███████████████████████████▊    | 153 kB 5.3 MB/s eta 0:00:01\r\u001b[K     |█████████████████████████████▋  | 163 kB 5.3 MB/s eta 0:00:01\r\u001b[K     |███████████████████████████████▌| 174 kB 5.3 MB/s eta 0:00:01\r\u001b[K     |████████████████████████████████| 177 kB 5.3 MB/s \n",
            "\u001b[?25hRequirement already satisfied: pygments>=2.0.0 in /usr/local/lib/python3.7/dist-packages (from py2neo) (2.6.1)\n",
            "Requirement already satisfied: urllib3 in /usr/local/lib/python3.7/dist-packages (from py2neo) (1.24.3)\n",
            "Collecting interchange~=2021.0.4\n",
            "  Downloading interchange-2021.0.4-py2.py3-none-any.whl (28 kB)\n",
            "Collecting monotonic\n",
            "  Downloading monotonic-1.6-py2.py3-none-any.whl (8.2 kB)\n",
            "Collecting pansi>=2020.7.3\n",
            "  Downloading pansi-2020.7.3-py2.py3-none-any.whl (10 kB)\n",
            "Requirement already satisfied: packaging in /usr/local/lib/python3.7/dist-packages (from py2neo) (21.3)\n",
            "Requirement already satisfied: certifi in /usr/local/lib/python3.7/dist-packages (from py2neo) (2021.10.8)\n",
            "Requirement already satisfied: six>=1.15.0 in /usr/local/lib/python3.7/dist-packages (from py2neo) (1.15.0)\n",
            "Requirement already satisfied: pytz in /usr/local/lib/python3.7/dist-packages (from interchange~=2021.0.4->py2neo) (2018.9)\n",
            "Requirement already satisfied: pyparsing!=3.0.5,>=2.0.2 in /usr/local/lib/python3.7/dist-packages (from packaging->py2neo) (3.0.7)\n",
            "Installing collected packages: pansi, monotonic, interchange, py2neo\n",
            "Successfully installed interchange-2021.0.4 monotonic-1.6 pansi-2020.7.3 py2neo-2021.2.3\n"
          ]
        }
      ]
    },
    {
      "cell_type": "code",
      "metadata": {
        "colab": {
          "base_uri": "https://localhost:8080/"
        },
        "id": "irZ62kX6Lxqc",
        "outputId": "c830f348-560e-4146-eae9-a550a3d07049"
      },
      "source": [
        "from google.colab import drive\n",
        "drive.mount(\"/content/drive\")"
      ],
      "execution_count": 2,
      "outputs": [
        {
          "output_type": "stream",
          "name": "stdout",
          "text": [
            "Mounted at /content/drive\n"
          ]
        }
      ]
    },
    {
      "cell_type": "code",
      "metadata": {
        "id": "3zToQazdiUtE"
      },
      "source": [
        "### Graph library\n",
        "from py2neo import Graph\n",
        "import pandas as pd\n",
        "from py2neo import Node,Relationship,RelationshipMatcher,RelationshipMatch"
      ],
      "execution_count": 3,
      "outputs": []
    },
    {
      "cell_type": "code",
      "metadata": {
        "id": "xXgH149Iin-l"
      },
      "source": [
        "graph = Graph(\"bolt://3.221.159.13:7687\", auth=(\"neo4j\", \"courtesies-types-lip\"))"
      ],
      "execution_count": 4,
      "outputs": []
    },
    {
      "cell_type": "markdown",
      "source": [
        "# **Node building**"
      ],
      "metadata": {
        "id": "oHssqlBgyNf5"
      }
    },
    {
      "cell_type": "code",
      "metadata": {
        "id": "UCSbYSbbQ5_F",
        "colab": {
          "base_uri": "https://localhost:8080/",
          "height": 34
        },
        "outputId": "1ad99a6b-c834-4df7-96cc-cb4724524d4d"
      },
      "source": [
        "query=(\"\"\" LOAD CSV WITH HEADERS FROM \" https://docs.google.com/spreadsheets/d/e/2PACX-1vSFqgzJqAnr9rTRnbLBd9SYzKsTr84QBWQvXlTZNiJAoR7DpvHpT0JPVW3OxyYc-pneE8uBPR1rpDoM/pub?gid=986775331&single=true&output=csv\" AS row\n",
        "CREATE (n:Allergies) SET n = row\n",
        "\"\"\")\n",
        "graph.run(query)\n",
        "\n",
        "query=(\"\"\" LOAD CSV WITH HEADERS FROM \" https://docs.google.com/spreadsheets/d/e/2PACX-1vQSYiMpC11T-aozTStcX76ewlJL3JOhcJBGsAwww4oUpr9YwDE2cCVk1E7FlPj22FdKi9GMoUWFCIzY/pub?gid=171752756&single=true&output=csv\" AS row\n",
        "CREATE (n:Careplans) SET n = row\n",
        "\"\"\")\n",
        "graph.run(query)\n",
        "\n",
        "query=(\"\"\" LOAD CSV WITH HEADERS FROM \"https://docs.google.com/spreadsheets/d/e/2PACX-1vSr9YmvRrGy-_047a2QedR60JIeLv8chUvlGlyC0isOEnA3TXtjrFLeqhytg5CJoMoZ7gavXYvkQZki/pub?gid=639992930&single=true&output=csv\" AS row\n",
        "CREATE (n:Conditions) SET n = row\n",
        "\"\"\")\n",
        "graph.run(query)\n",
        "\n",
        "query=(\"\"\" LOAD CSV WITH HEADERS FROM \" https://docs.google.com/spreadsheets/d/e/2PACX-1vSUVHPjkDg1SU3zQt-GEYkFAe6brROHDmPBdoPxAFlu83T52QtR9tiAG_HhBWxZjdU_-UTQpe_E4Ub7/pub?gid=491244758&single=true&output=csv\" AS row\n",
        "CREATE (n: Claims) SET n = row\n",
        "\"\"\")\n",
        "graph.run(query)\n",
        "\n",
        "query=(\"\"\" LOAD CSV WITH HEADERS FROM \" https://docs.google.com/spreadsheets/d/e/2PACX-1vQHoTdki6d76QlTR7rK2cVY2zKdl_7g6pu93PtOfRNSt3T4dlWIKMbb2W-QFqRrY899G4EisKDOzKXB/pub?gid=122965216&single=true&output=csv\" AS row\n",
        "CREATE (n:Patients) SET n = row\n",
        "\"\"\")\n",
        "graph.run(query)\n",
        "\n",
        "query=(\"\"\" LOAD CSV WITH HEADERS FROM \"https://docs.google.com/spreadsheets/d/e/2PACX-1vS0R3wPPSSfUthVKZ9mwzN63gqW72pfq9YNgPLsT_zp1coXB6dpOt1WXATTZSCIaOFBsZURd03-RwEl/pub?gid=1402037946&single=true&output=csv\" AS row\n",
        "  CREATE (n: Medications) SET n = row\n",
        " \"\"\")\n",
        "graph.run(query)\n",
        "\n",
        "query=(\"\"\" LOAD CSV WITH HEADERS FROM \"https://docs.google.com/spreadsheets/d/e/2PACX-1vRMQQ2GuQPS3oXIctfAol_kQAoY9iVsfDjxIzQP2lTez0saq7RURU6N7hdr1WKE_isUMb9gFwwKinAc/pub?gid=584608028&single=true&output=csv\" AS row\n",
        "CREATE (n:Devices) SET n = row\n",
        "\"\"\")\n",
        "graph.run(query)\n",
        "\n",
        "query=(\"\"\" LOAD CSV WITH HEADERS FROM \" https://docs.google.com/spreadsheets/d/e/2PACX-1vSAQJjLZIQWd4B98cBXnNSQn8uFHzwXrSjAM7XnC6GbljbSzQfZdNpaSgz-wdNxKssokif7t6mByvhz/pub?gid=120651163&single=true&output=csv\n",
        "\" AS row\n",
        "CREATE (n: Imaging_studies) SET n = row\n",
        "\"\"\")\n",
        "graph.run(query)\n",
        "\n",
        "query=(\"\"\" LOAD CSV WITH HEADERS FROM \" https://docs.google.com/spreadsheets/d/e/2PACX-1vTjc93dAWPpUFNMT8rYC2ZAKOBIQTWcKWM-YsGID92VbBmR7Xe39mflhpO0x448pAzfhpC4AmfNX-Bf/pub?gid=751674767&single=true&output=csv\" AS row\n",
        "CREATE (n: Encounters) SET n = row\n",
        "\"\"\")\n",
        "graph.run(query)\n",
        "\n",
        "query=(\"\"\" LOAD CSV WITH HEADERS FROM \" https://docs.google.com/spreadsheets/d/e/2PACX-1vQxBOW_tnHmUMPwA5e34bzAq4g8ILRGztXziWYGj1Q2qEsfdmNWZa0nFYuz_1FO_EGZ37Rr9jW_a19P/pub?gid=1034889985&single=true&output=csv\" AS row\n",
        "CREATE (n:Immunizations) SET n = row\n",
        "\"\"\")\n",
        "graph.run(query)\n",
        "\n",
        "query=(\"\"\" LOAD CSV WITH HEADERS FROM \" https://docs.google.com/spreadsheets/d/e/2PACX-1vSTplgTmRMht9JqF0qWZA_OXT01rK8eZJaCJUBSY0v3o3xue4ioDI_HJJH8CRNs0nFzn6w_40fDlJ9w/pub?gid=257175035&single=true&output=csv\" AS row\n",
        "CREATE (n:Observations) SET n = row\n",
        "\"\"\")\n",
        "graph.run(query)\n",
        "\n",
        "query=(\"\"\" LOAD CSV WITH HEADERS FROM \" https://docs.google.com/spreadsheets/d/e/2PACX-1vRalogiNXvK95v46_ruV5hI3cbWuaKrmfaGxNbQN7WzjaSZR_Kq9m78oM_sx2gNDCzzd2KFrbD_2G6U/pub?gid=1120059912&single=true&output=csv\" AS row\n",
        "CREATE (n: Organizations) SET n = row\n",
        "\"\"\")\n",
        "graph.run(query)\n",
        "\n",
        "query=(\"\"\" LOAD CSV WITH HEADERS FROM \"https://docs.google.com/spreadsheets/d/e/2PACX-1vRbwUl5IJPSiEZuHyUSfKadJkK0LaK8SVMNNmZHDsJEH3-M_-MVDawxeO2SQZFa0LPfkUcptdlp3sYS/pub?gid=2068915938&single=true&output=csv\" AS row\n",
        "CREATE (n: Procedures) SET n = row\n",
        "\"\"\")\n",
        "graph.run(query)\n",
        "\n",
        "query=(\"\"\" LOAD CSV WITH HEADERS FROM \"https://docs.google.com/spreadsheets/d/e/2PACX-1vQULtiZZjEv9FFpKmfYDq0IkPryctDhbGDhZdkDlHUxBiuMzGxY8WIxjLv1fBDjCT98JfGXAVP-ToYC/pub?gid=276780573&single=true&output=csv\" AS row\n",
        "CREATE (n:Supplies) SET n = row\n",
        "\"\"\")\n",
        "graph.run(query)\n",
        "\n",
        "query=(\"\"\"LOAD CSV WITH HEADERS FROM \" https://docs.google.com/spreadsheets/d/e/2PACX-1vTzbF41mUuFCFyJDwWgB8XnALwE_30sbjodkNZnmPHkSr7RaIaR7XQBwZgB71OXdAhiRb25nn-rb5am/pub?gid=1968886381&single=true&output=csv\" AS row\n",
        "CREATE (n: Claims_transactions) SET n = row\n",
        "\"\"\")\n",
        "graph.run(query)\n",
        "\n",
        "query=(\"\"\" LOAD CSV WITH HEADERS FROM \"https://docs.google.com/spreadsheets/d/e/2PACX-1vS3B8TEzleKSSocFjqLwk9nC325KhLCLxHXiXYN4KipRhLlnTSWHvN1kM-wX-zzggiwgrWcCZ73z3qI/pub?gid=340548554&single=true&output=csv\" AS row\n",
        "CREATE (n: Payers) SET n = row\n",
        "\"\"\")\n",
        "graph.run(query)\n",
        "\n",
        "query=(\"\"\" LOAD CSV WITH HEADERS FROM \"https://docs.google.com/spreadsheets/d/e/2PACX-1vTGwEfDfNRWCav-8EBjfLJ_O9WN32hZz6Ezbsub30DRS019pivSiM87RlkOlpZIsiSoj8vQry7EPG_2/pub?gid=2024563035&single=true&output=csv\" AS row\n",
        "CREATE (n: Payer_transitions) SET n = row\n",
        "\"\"\")\n",
        "graph.run(query)\n",
        "\n",
        "query=(\"\"\" LOAD CSV WITH HEADERS FROM \" https://docs.google.com/spreadsheets/d/e/2PACX-1vQULtiZZjEv9FFpKmfYDq0IkPryctDhbGDhZdkDlHUxBiuMzGxY8WIxjLv1fBDjCT98JfGXAVP-ToYC/pub?gid=276780573&single=true&output=csv\" AS row\n",
        "CREATE (n: Providers) SET n = row\n",
        "\"\"\")\n",
        "graph.run(query)"
      ],
      "execution_count": 5,
      "outputs": [
        {
          "output_type": "execute_result",
          "data": {
            "text/html": [
              "(No data)"
            ],
            "text/plain": [
              "(No data)"
            ]
          },
          "metadata": {},
          "execution_count": 5
        }
      ]
    },
    {
      "cell_type": "markdown",
      "source": [
        "# **Edges building**"
      ],
      "metadata": {
        "id": "N13c0y7yyjw1"
      }
    },
    {
      "cell_type": "code",
      "metadata": {
        "id": "Jnt9yzI96XnB",
        "colab": {
          "base_uri": "https://localhost:8080/",
          "height": 34
        },
        "outputId": "989d344f-394a-41e7-d65b-9f6a975e679e"
      },
      "source": [
        "query=(\"\"\" MATCH (t:Allergies), (s:Patients) WHERE t.PATIENT=s.Id\n",
        "MERGE (s)-[:PATIENT_HAS_ALLERGY]->(t)\n",
        "\"\"\")\n",
        "graph.run(query)\n",
        "\n",
        "query=(\"\"\" MATCH (s:Encounters),(t:Allergies) WHERE s.Id=t. ENCOUNTER\n",
        "MERGE (s)-[:ENCOUNTER_FOR_ALLERGY]->(t)\n",
        "\"\"\")\n",
        "graph.run(query)\n",
        "\n",
        "query=(\"\"\"MATCH (s:Patients),(t:Medications) WHERE s.Id=t.PATIENT\n",
        "MERGE(s)-[: PATIENT_HAS_MEDICATION]->(t)\n",
        "\"\"\")\n",
        "graph.run(query)\n",
        "\n",
        "query=(\"\"\" MATCH (s:Encounters),(t:Medications) WHERE s.Id=t.ENCOUNTER\n",
        "MERGE (s)-[: ENCOUNTER_FOR_MEDICATION]->(t)\n",
        "\"\"\")\n",
        "graph.run(query)\n",
        "\n",
        "query=(\"\"\"MATCH (s:Patients),(t:Careplans) WHERE s.Id=t.PATIENT\n",
        "MERGE(s)-[:PATIENT_HAS_CAREPLAN]->(t)\n",
        "\"\"\")\n",
        "graph.run(query)\n",
        "\n",
        "query=(\"\"\" MATCH (s:Encounters),(t:Careplans) WHERE s.Id=t.ENCOUNTER\n",
        "MERGE (s)-[:ENCOUNTER_FOR_CAREPLAN]->(t)\n",
        "\"\"\")\n",
        "graph.run(query)\n",
        "\n",
        "query=(\"\"\" MATCH (s:Patients),(t:Encounters) WHERE s.Id=t.PATIENT\n",
        "MERGE (s)-[:ENCOUNTER_FOR_PATIENT]->(t)\n",
        "\"\"\")\n",
        "graph.run(query)\n",
        "\n",
        "query=(\"\"\" MATCH (s:Patients),(t:Devices) WHERE s.Id=t.PATIENT\n",
        "MERGE (s)-[:PATIENT_HAS_DEVICE]->(t)\n",
        "\"\"\")\n",
        "graph.run(query)\n",
        "\n",
        "query=(\"\"\" MATCH (s:Encounters),(t:Devices) WHERE s.Id=t.ENCOUNTER\n",
        "MERGE (s)-[:ENCOUNTER_FOR_DEVICE]->(t)\n",
        "\"\"\")\n",
        "graph.run(query)\n",
        "\n",
        "query=(\"\"\" MATCH (s:Payers),(t:Medications) WHERE s.Id=t.PAYER\n",
        "MERGE(s)-[:MEDICATION_PAYER]->(t)\n",
        "\"\"\")\n",
        "graph.run(query)\n",
        "\n",
        "query=(\"\"\" MATCH (s:Patients),(t:Procedures) WHERE s.Id=t.PATIENT\n",
        "MERGE (s)-[:PATIENT_HAS_PROCEDURE]->(t)\n",
        "\"\"\")\n",
        "graph.run(query)\n",
        "\n",
        "query=(\"\"\" MATCH (s:Encounters),(t:Procedures) WHERE s.Id=t.PATIENT\n",
        "MERGE(s)-[:ENCOUNTER_FOR_PROCEDURE]->(t)\n",
        "\"\"\")\n",
        "graph.run(query)\n",
        "\n",
        "query=(\"\"\"MATCH (s:Patients),(t:Conditions) WHERE s.Id=t.PATIENT\n",
        "MERGE (s)-[: PATIENT_HAS_CONDITION]->(t)\n",
        "\"\"\")\n",
        "graph.run(query)\n",
        "\n",
        "query=(\"\"\" MATCH (s:Encounters),(t:Conditions) WHERE s.Id=t.ENCOUNTER\n",
        "MERGE (s)-[: ENCOUNTER_FOR_CONDITION]->(t)\n",
        "\"\"\")\n",
        "graph.run(query)\n",
        "\n",
        "query=(\"\"\" MATCH (s:Immunizations),(t:Patients) WHERE t.Id=s.PATIENT\n",
        "MERGE (s)-[:PATIENT_HAS_IMMUNIZATION]->(t)\n",
        "\"\"\")\n",
        "graph.run(query)\n",
        "\n",
        "query=(\"\"\" MATCH (s:Immunizations),(t:Encounters) WHERE t.Id=s.ENCOUNTER\n",
        "MERGE (s)-[:ENCOUNTER_FOR_IMMUNIZATION]->(t)\n",
        "\"\"\")\n",
        "graph.run(query)\n",
        "\n",
        "query=(\"\"\"MATCH (s:Payers),(t:Encounters) WHERE t.Id=s.ENCOUNTER\n",
        "MERGE (t)-[:ENCOUNTER_HAS_PAYER]->(s)\n",
        "\"\"\")\n",
        "graph.run(query)\n",
        "\n",
        "query=(\"\"\" MATCH (s:Providers),(t:Encounters) WHERE s.Id=t.PATIENT\n",
        "MERGE (s)-[:ENCOUNTER_HAS_PROVIDER]->(t)\n",
        "\"\"\")\n",
        "graph.run(query)\n",
        "\n",
        "query=(\"\"\"MATCH (s:Organization),(t:Encounters) WHERE s.Id=t.PATIENT\n",
        "MERGE (s)-[: ENCOUNTER_UNDER_ORGANIZATION]->(t)\n",
        "\"\"\")\n",
        "graph.run(query)\n",
        "\n",
        "query=(\"\"\" MATCH (s:Patients),(t: Imaging_studies) WHERE s.Id=t.PATIENT\n",
        "MERGE (s)-[:PATIENT_HAS_IMAGING]->(t)\n",
        "\"\"\")\n",
        "graph.run(query)\n",
        "\n",
        "query=(\"\"\"MATCH (t:Observations),(s:Encounters) WHERE s.Id=t.ENCOUNTER\n",
        "MERGE (s)-[:ENCOUNTER_FOR_OBSERVATION]->(t)\n",
        "\"\"\")\n",
        "graph.run(query)\n",
        "\n",
        "query=(\"\"\" MATCH (s:Observations),(t:Patients) WHERE t.Id=s.PATIENT\n",
        "MERGE (s)-[:OBSERVATION_FOR_PATIENT]->(t)\n",
        "\"\"\")\n",
        "graph.run(query)\n",
        "\n",
        "query=(\"\"\" MATCH (s:Immunizations),(t:Encounters) WHERE t.Id=s.ENCOUNTER\n",
        "MERGE (s)-[:ENCOUNTER_FOR_IMMUNIZATION]->(t)\n",
        "\"\"\")\n",
        "graph.run(query)\n",
        "\n",
        "query=(\"\"\" MATCH (s:Immunizations),(t:Patients) WHERE t.Id=s.PATIENT\n",
        "MERGE(s)-[:PATIENT_HAS_IMMUNIZATION]->(t)\n",
        "\"\"\")\n",
        "graph.run(query)\n",
        "\n",
        "query=(\"\"\"MATCH (s:Encounters),(t:Conditions) WHERE s.Id=t.ENCOUNTER\n",
        "MERGE (s)-[: ENCOUNTER_FOR_CONDITION]->(t)\n",
        "\"\"\")\n",
        "graph.run(query)\n",
        "\n",
        "query=(\"\"\"MATCH (s:Patients),(t:Conditions) WHERE s.Id=t.PATIENT\n",
        "MERGE (s)-[: PATIENT_HAS_CONDITION]->(t)\n",
        "\"\"\")\n",
        "graph.run(query)\n",
        "\n",
        "query=(\"\"\" MATCH (s:Encounters),(t:Procedures) WHERE s.Id=t.ENCOUNTER\n",
        "MERGE (s)-[:ENCOUNTER_FOR_PROCEDURE]->(t)\n",
        "\"\"\")\n",
        "graph.run(query)"
      ],
      "execution_count": 6,
      "outputs": [
        {
          "output_type": "execute_result",
          "data": {
            "text/html": [
              "(No data)"
            ],
            "text/plain": [
              "(No data)"
            ]
          },
          "metadata": {},
          "execution_count": 6
        }
      ]
    }
  ]
}